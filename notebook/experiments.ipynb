{
 "cells": [
  {
   "cell_type": "code",
   "execution_count": 9,
   "metadata": {},
   "outputs": [
    {
     "name": "stdout",
     "output_type": "stream",
     "text": [
      "0.25\n"
     ]
    }
   ],
   "source": [
    "from sklearn.metrics import f1_score\n",
    "\n",
    "y_true = [[0, 1, 1], [0, 1, 0]]\n",
    "y_pred = [[1, 0, 1], [1, 0, 1]]\n",
    "\n",
    "print(f1_score(y_true, y_pred, average='samples'))"
   ]
  },
  {
   "cell_type": "code",
   "execution_count": 13,
   "metadata": {},
   "outputs": [
    {
     "name": "stdout",
     "output_type": "stream",
     "text": [
      "0.5\n",
      "0.0\n",
      "0.25\n",
      "0.0\n",
      "0.3333333333333333\n",
      "0.0\n"
     ]
    }
   ],
   "source": [
    "print(f1_score(y_true[0], y_pred[0], average='binary'))\n",
    "print(f1_score(y_true[1], y_pred[1], average='binary'))\n",
    "\n",
    "print(f1_score(y_true[0], y_pred[0], average='macro'))\n",
    "print(f1_score(y_true[1], y_pred[1], average='macro'))\n",
    "\n",
    "print(f1_score(y_true[0], y_pred[0], average='micro'))\n",
    "print(f1_score(y_true[1], y_pred[1], average='micro'))"
   ]
  },
  {
   "cell_type": "code",
   "execution_count": 14,
   "metadata": {},
   "outputs": [],
   "source": [
    "import torch\n",
    "from pytorch_lightning.metrics.functional import f1"
   ]
  },
  {
   "cell_type": "code",
   "execution_count": 16,
   "metadata": {},
   "outputs": [
    {
     "name": "stdout",
     "output_type": "stream",
     "text": [
      "tensor(0.1667)\n",
      "tensor(0.2857)\n"
     ]
    }
   ],
   "source": [
    "target = torch.tensor(y_true)\n",
    "preds = torch.tensor(y_pred)\n",
    "print(f1(preds, target, num_classes=3))\n",
    "print(f1(preds, target, num_classes=3, multilabel=True))"
   ]
  },
  {
   "cell_type": "code",
   "execution_count": null,
   "metadata": {},
   "outputs": [],
   "source": []
  }
 ],
 "metadata": {
  "kernelspec": {
   "display_name": "Python 3",
   "language": "python",
   "name": "python3"
  },
  "language_info": {
   "codemirror_mode": {
    "name": "ipython",
    "version": 3
   },
   "file_extension": ".py",
   "mimetype": "text/x-python",
   "name": "python",
   "nbconvert_exporter": "python",
   "pygments_lexer": "ipython3",
   "version": "3.7.6"
  }
 },
 "nbformat": 4,
 "nbformat_minor": 4
}
