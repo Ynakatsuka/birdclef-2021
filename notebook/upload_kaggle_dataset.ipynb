{
 "cells": [
  {
   "cell_type": "code",
   "execution_count": 13,
   "metadata": {},
   "outputs": [],
   "source": [
    "import glob\n",
    "import sys\n",
    "sys.path.append('../src/')\n",
    "\n",
    "import torch\n",
    "\n",
    "import kvt.utils\n",
    "from kvt.utils import upload_dataset"
   ]
  },
  {
   "cell_type": "code",
   "execution_count": 10,
   "metadata": {},
   "outputs": [
    {
     "name": "stdout",
     "output_type": "stream",
     "text": [
      "cp: cannot stat '../data/output/models/augmentation=exp100,dataset=exp100,trainer=exp107/': No such file or directory\n"
     ]
    }
   ],
   "source": [
    "!cp -r ../data/output/models/augmentation=exp025,trainer=exp054/ ../data/kaggle/model/models/\n",
    "!cp -r ../data/output/models/augmentation=exp029,trainer=exp073/ ../data/kaggle/model/models/\n",
    "!cp -r ../data/output/models/augmentation=exp103,dataset=exp100,trainer=exp100/ ../data/kaggle/model/models/\n",
    "!cp -r ../data/output/models/augmentation=exp100,dataset.dataset.params.idx_fold=0,dataset=exp100,trainer=exp107/ ../data/kaggle/model/models/\n",
    "!cp -r ../data/output/models/augmentation=exp100,dataset=exp100,trainer.model.params.backbone.name=densenet121,trainer=exp100/ ../data/kaggle/model/models/\n",
    "!cp -r ../data/output/models/augmentation=exp100,dataset=exp100,trainer.model.params.backbone.name=nfnet_l0,trainer=exp100/ ../data/kaggle/model/models/\n",
    "!cp -r ../data/output/models/+trainer.model.params.use_batch_norm=False,augmentation=exp103,dataset.dataset.params.idx_fold=0,dataset=exp100,trainer=exp105/ ../data/kaggle/model/models/\n",
    "!cp -r ../data/output/models/augmentation=exp103,dataset.dataset.params.idx_fold=0,dataset=exp100,trainer=exp105/ ../data/kaggle/model/models/\n",
    "!cp -r ../data/output/models/augmentation=exp102,dataset=exp105,trainer=exp112/ ../data/kaggle/model/models/\n",
    "!cp -r ../data/output/models/augmentation=exp102,dataset=exp105,trainer=exp111/ ../data/kaggle/model/models/\n",
    "!cp -r ../data/output/models/augmentation=exp100,dataset=exp105,trainer=exp114/ ../data/kaggle/model/models/\n",
    "!cp -r ../data/output/models/augmentation=exp100,dataset=exp105,trainer.model.params.backbone.name=resnest101e,trainer=exp112/ ../data/kaggle/model/models/\n",
    "!cp -r ../data/output/models/augmentation=exp104,dataset.dataset.params.idx_fold=1,dataset=exp100,trainer=exp100/ ../data/kaggle/model/models/\n",
    "!cp -r ../data/output/models/augmentation=exp100,dataset=exp105,trainer.model.params.backbone.name=resnetrs101,trainer=exp112/ ../data/kaggle/model/models/\n",
    "!cp -r ../data/output/models/augmentation=exp100,dataset=exp100,trainer.model.params.backbone.name=tf_efficientnet_b6_ns,trainer=exp100/ ../data/kaggle/model/models/\n",
    "!cp -r ../data/output/models/augmentation=exp025,trainer=exp058/ ../data/kaggle/model/models/\n",
    "!cp -r ../data/output/models/augmentation=exp100,dataset=exp100,trainer.model.params.backbone.name=resnest50,trainer=exp100/ ../data/kaggle/model/models/\n",
    "!cp -r ../data/output/models/augmentation=exp032,dataset=exp107,trainer=exp116/ ../data/kaggle/model/models/\n",
    "!cp -r ../data/output/models/augmentation=exp029,dataset.dataset.params.idx_fold=0,trainer=exp077/ ../data/kaggle/model/models/\n",
    "!cp -r ../data/output/models/augmentation=exp029,dataset.dataset.params.idx_fold=0,dataset=exp012,trainer=exp074/ ../data/kaggle/model/models/\n",
    "!cp -r ../data/output/models/augmentation=exp029,dataset.dataset.params.idx_fold=0,trainer=exp073/ ../data/kaggle/model/models/\n",
    "!cp -r ../data/output/models/augmentation=exp029,dataset.dataset.params.idx_fold=0,trainer=exp076/ ../data/kaggle/model/models/\n",
    "!cp -r ../data/output/models/augmentation=exp100,dataset.dataset.params.idx_fold=0,dataset=exp100,trainer=exp107/ ../data/kaggle/model/models/\n",
    "!cp -r ../data/output/models/augmentation=exp103,dataset.dataset.params.idx_fold=0,dataset=exp111,trainer=exp128/ ../data/kaggle/model/models/\n",
    "!cp -r ../data/output/models/augmentation=exp100,dataset.dataset.params.idx_fold=0,dataset=exp100,trainer.model.params.backbone.name=regnety_032,trainer=exp124/ ../data/kaggle/model/models/\n",
    "\n",
    "!cp -r ../data/output/models/augmentation=exp100,dataset=exp100,trainer=exp107/ ../data/kaggle/model/models/"
   ]
  },
  {
   "cell_type": "code",
   "execution_count": 11,
   "metadata": {},
   "outputs": [],
   "source": [
    "# !rm -r ../data/kaggle/model/models/augmentation=exp032,dataset=exp107,trainer=exp116"
   ]
  },
  {
   "cell_type": "code",
   "execution_count": 12,
   "metadata": {},
   "outputs": [
    {
     "data": {
      "text/plain": [
       "['+trainer.model.params.use_batch_norm=False,augmentation=exp103,dataset.dataset.params.idx_fold=0,dataset=exp100,trainer=exp105',\n",
       " 'augmentation=exp025,trainer=exp054',\n",
       " 'augmentation=exp025,trainer=exp058',\n",
       " 'augmentation=exp029,dataset.dataset.params.idx_fold=0,dataset=exp012,trainer=exp074',\n",
       " 'augmentation=exp029,dataset.dataset.params.idx_fold=0,trainer=exp073',\n",
       " 'augmentation=exp029,dataset.dataset.params.idx_fold=0,trainer=exp076',\n",
       " 'augmentation=exp029,dataset.dataset.params.idx_fold=0,trainer=exp077',\n",
       " 'augmentation=exp029,trainer=exp073',\n",
       " 'augmentation=exp032,dataset=exp107,trainer=exp116',\n",
       " 'augmentation=exp033,trainer.trainer.max_epochs=45,trainer=exp073',\n",
       " 'augmentation=exp100,dataset.dataset.params.idx_fold=0,dataset=exp100,trainer.model.params.backbone.name=regnety_032,trainer=exp124',\n",
       " 'augmentation=exp100,dataset.dataset.params.idx_fold=0,dataset=exp100,trainer=exp107',\n",
       " 'augmentation=exp100,dataset=exp100,trainer.model.params.backbone.name=densenet121,trainer=exp100',\n",
       " 'augmentation=exp100,dataset=exp100,trainer.model.params.backbone.name=nfnet_l0,trainer=exp100',\n",
       " 'augmentation=exp100,dataset=exp100,trainer.model.params.backbone.name=resnest50,trainer=exp100',\n",
       " 'augmentation=exp100,dataset=exp100,trainer.model.params.backbone.name=tf_efficientnet_b6_ns,trainer=exp100',\n",
       " 'augmentation=exp100,dataset=exp105,trainer.model.params.backbone.name=resnest101e,trainer=exp112',\n",
       " 'augmentation=exp100,dataset=exp105,trainer.model.params.backbone.name=resnetrs101,trainer=exp112',\n",
       " 'augmentation=exp100,dataset=exp105,trainer=exp114',\n",
       " 'augmentation=exp102,dataset=exp105,trainer=exp111',\n",
       " 'augmentation=exp102,dataset=exp105,trainer=exp112',\n",
       " 'augmentation=exp103,dataset.dataset.params.idx_fold=0,dataset=exp100,trainer=exp105',\n",
       " 'augmentation=exp103,dataset.dataset.params.idx_fold=0,dataset=exp111,trainer=exp128',\n",
       " 'augmentation=exp103,dataset=exp100,trainer=exp100',\n",
       " 'augmentation=exp104,dataset.dataset.params.idx_fold=1,dataset=exp100,trainer=exp100']"
      ]
     },
     "execution_count": 12,
     "metadata": {},
     "output_type": "execute_result"
    }
   ],
   "source": [
    "[p.split('/')[-1] for p in sorted(glob.glob('../data/kaggle/model/models/*'))]"
   ]
  },
  {
   "cell_type": "code",
   "execution_count": 7,
   "metadata": {},
   "outputs": [],
   "source": [
    "for path in glob.glob('../data/kaggle/model/models/*/*.ckpt'):\n",
    "    filename = path.split('/')[-1]\n",
    "    if filename[-9:-5] != 'best':\n",
    "        !rm {path}"
   ]
  },
  {
   "cell_type": "code",
   "execution_count": 8,
   "metadata": {},
   "outputs": [],
   "source": [
    "def save_state_dict_only():\n",
    "    paths = glob.glob('../data/kaggle/model/models/*/*.ckpt')\n",
    "    for path in paths:\n",
    "        w = torch.load(path)\n",
    "        w = {'state_dict': w['state_dict']}\n",
    "        torch.save(w, path)"
   ]
  },
  {
   "cell_type": "code",
   "execution_count": 9,
   "metadata": {},
   "outputs": [
    {
     "name": "stdout",
     "output_type": "stream",
     "text": [
      "Warning: Looks like you're using an outdated API Version, please consider updating (server 1.5.12 / client 1.5.9)\n",
      "Starting upload for file models.zip\n"
     ]
    },
    {
     "name": "stderr",
     "output_type": "stream",
     "text": [
      "100%|██████████| 2.58G/2.58G [04:25<00:00, 10.4MB/s]\n"
     ]
    },
    {
     "name": "stdout",
     "output_type": "stream",
     "text": [
      "Upload successful: models.zip (3GB)\n",
      "Starting upload for file README.md\n"
     ]
    },
    {
     "name": "stderr",
     "output_type": "stream",
     "text": [
      "0.00B [00:05, ?B/s]\n"
     ]
    },
    {
     "name": "stdout",
     "output_type": "stream",
     "text": [
      "Upload successful: README.md (0B)\n"
     ]
    }
   ],
   "source": [
    "save_state_dict_only()\n",
    "\n",
    "upload_dataset(\n",
    "    title='birdclef-2021-models', \n",
    "    dirname='../data/kaggle/model/', \n",
    "    user_id='naka2ka',\n",
    "    dir_mode='zip',\n",
    ")"
   ]
  },
  {
   "cell_type": "code",
   "execution_count": 7,
   "metadata": {},
   "outputs": [],
   "source": [
    "# monitor_submission_time(competition_name='birdclef-2021')"
   ]
  },
  {
   "cell_type": "code",
   "execution_count": null,
   "metadata": {},
   "outputs": [],
   "source": []
  }
 ],
 "metadata": {
  "kernelspec": {
   "display_name": "Python 3",
   "language": "python",
   "name": "python3"
  },
  "language_info": {
   "codemirror_mode": {
    "name": "ipython",
    "version": 3
   },
   "file_extension": ".py",
   "mimetype": "text/x-python",
   "name": "python",
   "nbconvert_exporter": "python",
   "pygments_lexer": "ipython3",
   "version": "3.7.6"
  }
 },
 "nbformat": 4,
 "nbformat_minor": 4
}
